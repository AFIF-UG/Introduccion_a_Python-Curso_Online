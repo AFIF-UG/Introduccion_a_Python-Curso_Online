{
  "nbformat": 4,
  "nbformat_minor": 0,
  "metadata": {
    "colab": {
      "name": "Codigo_Tema_6.ipynb",
      "provenance": [],
      "collapsed_sections": [],
      "toc_visible": true
    },
    "kernelspec": {
      "name": "python3",
      "display_name": "Python 3"
    }
  },
  "cells": [
    {
      "cell_type": "markdown",
      "metadata": {
        "id": "CoMK0P5FQKnI"
      },
      "source": [
        "# Código Tema 6\r\n",
        "###### Si tienes problema al dar clic en el botón de -Open In Colab-, te recomendamos dar clic derecho en este y luego seleccionar -Abrir en una pestaña nueva-"
      ]
    },
    {
      "cell_type": "markdown",
      "metadata": {
        "id": "54OUPeltQPvo"
      },
      "source": [
        "[![Open In Colab](https://colab.research.google.com/assets/colab-badge.svg)](https://colab.research.google.com/drive/14gHpkF9Glq5cWrHlAT6G-5Ar6ENvtzps?usp=sharing)"
      ]
    },
    {
      "cell_type": "code",
      "metadata": {
        "colab": {
          "base_uri": "https://localhost:8080/"
        },
        "id": "sZNgwLCPWCA_",
        "outputId": "0de3c618-b339-4075-f02c-d7c744953623"
      },
      "source": [
        "# Operadores de asignacion\r\n",
        "\r\n",
        "A = 5\r\n",
        "\r\n",
        "# Suma en asignacion\r\n",
        "\r\n",
        "A += 3 # Equivale a A = A + 3\r\n",
        "\r\n",
        "# Resta en asignacion\r\n",
        "\r\n",
        "A -= 2 # Equivale a A = A - 2\r\n",
        "\r\n",
        "# Multiplicacion en asignacion\r\n",
        "\r\n",
        "A *= 2 # Equivale a A = A * 2\r\n",
        "\r\n",
        "# Division en asignacion \r\n",
        "\r\n",
        "A /= 4 # Equivale a A = A / 4\r\n",
        "\r\n",
        "# Potencia en asignacion\r\n",
        "\r\n",
        "A **= 3 # Equivale a A = A ** 3\r\n",
        "\r\n",
        "print(A)"
      ],
      "execution_count": 11,
      "outputs": [
        {
          "output_type": "stream",
          "text": [
            "27.0\n"
          ],
          "name": "stdout"
        }
      ]
    },
    {
      "cell_type": "code",
      "metadata": {
        "colab": {
          "base_uri": "https://localhost:8080/"
        },
        "id": "5-f-0OGgzvc_",
        "outputId": "df2a4c8e-c058-4d57-ec83-be5b6a67b706"
      },
      "source": [
        "# Operador modulo\r\n",
        "\r\n",
        "# Su operador es %\r\n",
        "# Es una division pero en vez de darte el cociente\r\n",
        "# te da el residuo\r\n",
        "\r\n",
        "B = 10 % 4\r\n",
        "print(B)\r\n",
        "\r\n",
        "# Modulo en asignacion\r\n",
        "\r\n",
        "A = 20\r\n",
        "\r\n",
        "A %= 4 # Equivale a A = A % 4\r\n",
        "\r\n",
        "print(A)"
      ],
      "execution_count": 12,
      "outputs": [
        {
          "output_type": "stream",
          "text": [
            "2\n",
            "0\n"
          ],
          "name": "stdout"
        }
      ]
    },
    {
      "cell_type": "code",
      "metadata": {
        "colab": {
          "base_uri": "https://localhost:8080/"
        },
        "id": "EwGRgqvE0qfA",
        "outputId": "42941b66-1993-4828-e008-f4493101a48d"
      },
      "source": [
        "# Operadores de comparacion\r\n",
        "\r\n",
        "'''\r\n",
        "and, or, not, >, <, ==, >=, <=, !=\r\n",
        "\r\n",
        "1. ()\r\n",
        "2. **\r\n",
        "3. *, /, %, not\r\n",
        "4. +, -, and\r\n",
        "5. >, <, ==, >=, <=, !=, or\r\n",
        "\r\n",
        "\r\n",
        "and: si ambas expresiones tienen el valor True (cierto) da como resultado True\r\n",
        "or: con que mínimo una expresion tenga el valor True (cierto) da como resultado True\r\n",
        "not: cambia el valor de True (cierto) a False (falso) y viceversa \r\n",
        "'''\r\n",
        "\r\n",
        "A = 1\r\n",
        "B = 2\r\n",
        "C = 3\r\n",
        "\r\n",
        "D = not((A > C) or (C < B))\r\n",
        "print(D)\r\n",
        "\r\n",
        "# operador \"diferente\" !=\r\n",
        "\r\n",
        "E = A != 2 # Como A es diferente de dos el operador \"Diferente\" da como resultado el valor de True\r\n",
        "print(E)\r\n",
        "\r\n",
        "# Operador \"igualdad\" ==\r\n",
        "\r\n",
        "F = A == 1 # Como A es igual que uno el operador \"igualdad\" da como resultado el valor de True\r\n",
        "print(F)\r\n"
      ],
      "execution_count": 13,
      "outputs": [
        {
          "output_type": "stream",
          "text": [
            "True\n",
            "True\n",
            "True\n"
          ],
          "name": "stdout"
        }
      ]
    }
  ]
}