{
  "nbformat": 4,
  "nbformat_minor": 0,
  "metadata": {
    "colab": {
      "name": "Codigo_Tema_3.ipynb",
      "provenance": []
    },
    "kernelspec": {
      "name": "python3",
      "display_name": "Python 3"
    }
  },
  "cells": [
    {
      "cell_type": "markdown",
      "metadata": {
        "id": "5fVioqOAYHc5"
      },
      "source": [
        "#**Código Tema 3**\r\n",
        "\r\n",
        "Si tienes problemas al dar click en el botón de -Open in Colab-, te recomendamos dar click derecho y luego seleccionar -Abrir en una pestaña nueva-\r\n",
        "\r\n",
        "[![Open In Colab](https://colab.research.google.com/assets/colab-badge.svg)](https://colab.research.google.com/drive/1OQOQyLg2r4f43C_rW4tCPZWmWlRNQYIV#scrollTo=5fVioqOAYHc5)\r\n",
        "\r\n",
        "\r\n",
        "\r\n",
        "---\r\n",
        "\r\n",
        "\r\n",
        "\r\n"
      ]
    },
    {
      "cell_type": "markdown",
      "metadata": {
        "id": "nZI-TP3nFX9_"
      },
      "source": [
        "# **Variables**\r\n",
        "\r\n",
        "Las variables son espaios de memoria RAM donde se almacenan datos.\r\n",
        "\r\n",
        "Son escenciales para la programación y pueden ser números, texto o un conjunto de ambos.\r\n",
        "\r\n"
      ]
    },
    {
      "cell_type": "code",
      "metadata": {
        "colab": {
          "base_uri": "https://localhost:8080/"
        },
        "id": "ESCGFurxDI8W",
        "outputId": "04f333af-3192-41ba-c8be-0e13f21fc8d5"
      },
      "source": [
        "# TIPOS DE VARIABLES \r\n",
        "\r\n",
        "entero = 10              # Números positivos o negativos que no son decimales\r\n",
        "flotante = 8.45          # Números con decimales\r\n",
        "string = 'Texto'         # Cadena de caracteres (Se pueden definir con \" \" o  con ' ')\r\n",
        "booleano = True          # Valor binario True o False (No se pueden definir con puras mayúsculas o minúsculas)\r\n",
        "\r\n",
        "print(entero)\r\n",
        "print(flotante)          # Aquí se imprimen las variables en pantalla    \r\n",
        "print(string)\r\n",
        "print(booleano)\r\n",
        "\r\n",
        "print(\" \")               # Espacio en blanco \r\n",
        "\r\n",
        "print(type(entero))\r\n",
        "print(type(flotante))    # Aquí se imprime el tipo de dato que son\r\n",
        "print(type(string))\r\n",
        "print(type(booleano))"
      ],
      "execution_count": null,
      "outputs": [
        {
          "output_type": "stream",
          "text": [
            "10\n",
            "8.45\n",
            "Texto\n",
            "True\n",
            " \n",
            "<class 'int'>\n",
            "<class 'float'>\n",
            "<class 'str'>\n",
            "<class 'bool'>\n"
          ],
          "name": "stdout"
        }
      ]
    },
    {
      "cell_type": "markdown",
      "metadata": {
        "id": "AuPEIO1HIWEd"
      },
      "source": [
        "# **Qué (No) está permitido al definir variables**"
      ]
    },
    {
      "cell_type": "code",
      "metadata": {
        "id": "SwFUOwnSInAd"
      },
      "source": [
        "númeröñ = 17          #Se pueden agregar acentos, diérecis, virgulillas y usar la \"ñ\"\r\n",
        "日本語 = \" Hola \"      # Se pueden usar letras de otros idiomas\r\n",
        "π = 3.1416            # Se pueden usar letras griegas\r\n",
        "\r\n",
        "\r\n",
        "#No son válidas las siguientes combinaciones  \r\n",
        "\r\n",
        "# 1algo            # El número al inicio no es válido\r\n",
        "# al go\r\n",
        "# al-go\r\n",
        "\r\n",
        "#Tampoco son válidos los signos (¬!|#$%&/()[]{}^`~¿'?\\¡<>,.;:)\r\n",
        "#Tampoco son válidas palabras reservadas como class,def,True,dict,list,set,int,etc... \"Cualquiera que se ponga de color al terminar de escribir XD\" \r\n",
        "\r\n",
        "\r\n",
        "#Los siguientes ejemplos sí son válidos\r\n",
        "\r\n",
        "algo1 = 0          # El número entre el nombre o al final de la variable sí es válido\r\n",
        "al_go = 9\r\n",
        "\r\n",
        "\r\n",
        "#Compila este código y no debe aparecer nada, tampoco errores"
      ],
      "execution_count": null,
      "outputs": []
    },
    {
      "cell_type": "markdown",
      "metadata": {
        "id": "1DcFCZv8KfMB"
      },
      "source": [
        "# **Listas**\r\n",
        "\r\n",
        "Las listas en Python son un tipo de dato que permite almacenar datos de cualquier tipo.\r\n",
        "\r\n",
        "Se definen con corchetes \"[ ]\"\r\n",
        "\r\n",
        "Son **ORDENADAS**, **MUTABLES**, **DINÁMICAS** y se pueden **ANIDAR**."
      ]
    },
    {
      "cell_type": "code",
      "metadata": {
        "colab": {
          "base_uri": "https://localhost:8080/"
        },
        "id": "8VclXAusK2ZT",
        "outputId": "a27713e3-c9d2-42f2-ae6c-888e2b4afe5e"
      },
      "source": [
        "L = list\r\n",
        "lista_vacía = []\r\n",
        "\r\n",
        "lista = [1,2,\"Hola\",\"Dos\",'25']\r\n",
        "\r\n",
        "lista_de_listas = [[1,1],[2,2],[3,3]]      #Propiedad de anidar\r\n",
        "\r\n",
        "print(lista_vacía)\r\n",
        "print(lista)\r\n",
        "print(lista_de_listas)\r\n",
        "\r\n",
        "\r\n",
        "print(L)                                #Tipo de variable por sí solo\r\n",
        "print(type(lista_vacía))\r\n",
        "print(type(lista))\r\n",
        "print(type(lista_de_listas))\r\n"
      ],
      "execution_count": null,
      "outputs": [
        {
          "output_type": "stream",
          "text": [
            "[]\n",
            "[1, 2, 'Hola', 'Dos', '25']\n",
            "[[1, 1], [2, 2], [3, 3]]\n",
            "<class 'list'>\n",
            "<class 'list'>\n",
            "<class 'list'>\n",
            "<class 'list'>\n"
          ],
          "name": "stdout"
        }
      ]
    },
    {
      "cell_type": "markdown",
      "metadata": {
        "id": "AFfW8LuKOArg"
      },
      "source": [
        "#**Set**\r\n",
        "\r\n",
        "Estructuras de datos que almacenan variables.\r\n",
        "\r\n",
        "Se definen con llaves \"{ }\" o con el constructor \"set()\"\r\n",
        "\r\n",
        "Son de elementos **ÚNICOS**, **DESORDENADOS** e **INMUTABLES**."
      ]
    },
    {
      "cell_type": "code",
      "metadata": {
        "colab": {
          "base_uri": "https://localhost:8080/"
        },
        "id": "GSvQELPqPAVT",
        "outputId": "ed022d3d-36c2-4f85-a16d-bb834f034b3e"
      },
      "source": [
        "s = set([1,2,4,6,3,\"1\",1])         #No puede almacenar booleanos\r\n",
        "\r\n",
        "S = set \r\n",
        "\r\n",
        "SET_VACIO = {}                      # NO PUEDEN HABER SETS VACIOS, SERÁ INTERPRETADO COMO DICCIONARIO\r\n",
        "\r\n",
        "SET = {\"Hola\",\"Hola\",\"Hola\",12,12,12,12,21}\r\n",
        "\r\n",
        "print(s)\r\n",
        "print(SET_VACIO)                    # DICCIONARIO\r\n",
        "print(SET)\r\n",
        "\r\n",
        "print(type(s))\r\n",
        "print(S)                             # Tipo de dato por sí solo\r\n",
        "print(type(SET_VACIO))\r\n",
        "print(type(SET))"
      ],
      "execution_count": null,
      "outputs": [
        {
          "output_type": "stream",
          "text": [
            "{1, 2, 3, 4, 6, '1'}\n",
            "{}\n",
            "{21, 'Hola', 12}\n",
            "<class 'set'>\n",
            "<class 'set'>\n",
            "<class 'dict'>\n",
            "<class 'set'>\n"
          ],
          "name": "stdout"
        }
      ]
    },
    {
      "cell_type": "markdown",
      "metadata": {
        "id": "VFANXmM3RKUk"
      },
      "source": [
        "#**Tupla**\r\n",
        "\r\n",
        "Estructuras de datos que almacenan variables.\r\n",
        "\r\n",
        "Se definen con paréntesis \"( )\" o sin ellas.\r\n",
        "\r\n",
        "Son **ORDENADAS**, **INMUTABLES** y se pueden **ANIDAR**."
      ]
    },
    {
      "cell_type": "code",
      "metadata": {
        "colab": {
          "base_uri": "https://localhost:8080/"
        },
        "id": "43EEPkrpRv9R",
        "outputId": "bf2078dd-90bf-4693-e8c1-3fb71c3a2e4e"
      },
      "source": [
        "Tupla = tuple\r\n",
        "tUpla = ()\r\n",
        "tuPla = (1,True,8,\"90\",9.0)\r\n",
        "tupLa = 0,1,(0,False),(1,True)     # Tupla anidada y sin paréntesis para definirse\r\n",
        "\r\n",
        "print(tUpla)\r\n",
        "print(tuPla)\r\n",
        "print(tupLa)\r\n",
        "\r\n",
        "\r\n",
        "print(Tupla)                # Tipo de dato por sí solo\r\n",
        "print(type(tUpla))\r\n",
        "print(type(tuPla))\r\n",
        "print(type(tupLa))"
      ],
      "execution_count": null,
      "outputs": [
        {
          "output_type": "stream",
          "text": [
            "()\n",
            "(1, True, 8, '90', 9.0)\n",
            "(0, 1, (0, False), (1, True))\n",
            "<class 'tuple'>\n",
            "<class 'tuple'>\n",
            "<class 'tuple'>\n",
            "<class 'tuple'>\n"
          ],
          "name": "stdout"
        }
      ]
    },
    {
      "cell_type": "markdown",
      "metadata": {
        "id": "duHU68mxTBxL"
      },
      "source": [
        "#**Diccionarios**\r\n",
        "\r\n",
        "Los diccionarios en Python son una estructura de datos que permite almacenar su contenido en forma de llave y valor.\r\n",
        "\r\n",
        "Se definen con llaves \"{ }\" o con el constructor \"dict()\"\r\n",
        "\r\n",
        "Son **INDEXADOS**, **MUTABLES** y **DINÁMICOS**"
      ]
    },
    {
      "cell_type": "code",
      "metadata": {
        "colab": {
          "base_uri": "https://localhost:8080/"
        },
        "id": "Ces_FtsST1UB",
        "outputId": "d5ac33a9-6ff1-413b-a0dc-2705e38dee58"
      },
      "source": [
        "# Diccionario forma {Key : Value} A cada llave (key) hay un valor (value).\r\n",
        "\r\n",
        "Dict = dict\r\n",
        "\r\n",
        "Diccionario_Vacio = {}\r\n",
        "\r\n",
        "Diccionario = dict([(1,2),(\"uno\",'dos')])   # ¡OJO! Aquí no se usan los dos puntos \":\" sino comas \",\"\r\n",
        "\r\n",
        "DICCIONARIO = {\"Nombre\" : \"Miguel\",\r\n",
        "               \"Edad\"   :  21,   \r\n",
        "               \"Soltero\": True }\r\n",
        "\r\n",
        "print(Diccionario_Vacio)\r\n",
        "print(Diccionario)\r\n",
        "print(DICCIONARIO)\r\n",
        "\r\n",
        "\r\n",
        "print(Dict)\r\n",
        "print(type(Diccionario_Vacio))\r\n",
        "print(type(Diccionario))\r\n",
        "print(type(DICCIONARIO))"
      ],
      "execution_count": 35,
      "outputs": [
        {
          "output_type": "stream",
          "text": [
            "{}\n",
            "{1: 2, 'uno': 'dos'}\n",
            "{'Nombre': 'Miguel', 'Edad': 21, 'Soltero': True}\n",
            "<class 'dict'>\n",
            "<class 'dict'>\n",
            "<class 'dict'>\n",
            "<class 'dict'>\n"
          ],
          "name": "stdout"
        }
      ]
    },
    {
      "cell_type": "markdown",
      "metadata": {
        "id": "4I-OfMicV_JQ"
      },
      "source": [
        "#**Más información**\r\n",
        "\r\n",
        "Recuerda que todas las variables en python son **CLASES**, por tanto, tienen métodos y aquí puedes encontrar más acerca de variables y estructuras de datos en cada apartado dando click en las opciones que aparecen en el link. \r\n",
        "\r\n",
        "https://ellibrodepython.com/tipos-python"
      ]
    }
  ]
}