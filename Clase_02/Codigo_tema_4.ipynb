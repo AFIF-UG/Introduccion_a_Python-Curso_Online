{
  "nbformat": 4,
  "nbformat_minor": 0,
  "metadata": {
    "colab": {
      "name": "Codigo_tema_4.ipynb",
      "provenance": [],
      "collapsed_sections": []
    },
    "kernelspec": {
      "name": "python3",
      "display_name": "Python 3"
    }
  },
  "cells": [
    {
      "cell_type": "markdown",
      "metadata": {
        "id": "5q8_Rw4-xrln"
      },
      "source": [
        "# Código tema 4\r\n",
        "###### Si tienes problema al dar clic en el botón de -Open In Colab-, te recomendamos dar clic derecho en este y luego seleccionar -Abrir en una pestaña nueva-"
      ]
    },
    {
      "cell_type": "markdown",
      "metadata": {
        "id": "jTMlI3gM0nGE"
      },
      "source": [
        "[![Open In Colab](https://colab.research.google.com/assets/colab-badge.svg)](https://colab.research.google.com/drive/1YEj5PNHkcD222LMHjLElzZORwQ8Fxu9c?usp=sharing)"
      ]
    },
    {
      "cell_type": "code",
      "metadata": {
        "colab": {
          "base_uri": "https://localhost:8080/"
        },
        "id": "mx5H3eUwZrnj",
        "outputId": "805c5b64-5aae-466b-ad8d-539c05a5b5b4"
      },
      "source": [
        "# Multiplicamos una string por una número y el resultado es el string escrito la cantidad de de veces del número \r\n",
        "a = 3\r\n",
        "b = \"12\"\r\n",
        "c = a * b\r\n",
        "print(c)"
      ],
      "execution_count": null,
      "outputs": [
        {
          "output_type": "stream",
          "text": [
            "121212\n"
          ],
          "name": "stdout"
        }
      ]
    },
    {
      "cell_type": "code",
      "metadata": {
        "colab": {
          "base_uri": "https://localhost:8080/"
        },
        "id": "Et90IcataQWU",
        "outputId": "da3725fe-cbe2-4063-87d9-abda059730cc"
      },
      "source": [
        "# str()   --> Convierte una variable a string\r\n",
        "# int()   --> Convierte una variable a Entero\r\n",
        "# float() --> Convierte una variable a Flotante\r\n",
        "# Recordado que la variable a convertir tiene que ir dentro del parentesis\r\n",
        "r = 12.7\r\n",
        "print(type(r))\r\n",
        "r = str(r)\r\n",
        "print(type(r))\r\n",
        "s = \"Numero: \" + r\r\n",
        "#s = r + 2\r\n",
        "print(s)"
      ],
      "execution_count": null,
      "outputs": [
        {
          "output_type": "stream",
          "text": [
            "<class 'float'>\n",
            "<class 'str'>\n",
            "Numero: 12.7\n"
          ],
          "name": "stdout"
        }
      ]
    },
    {
      "cell_type": "code",
      "metadata": {
        "colab": {
          "base_uri": "https://localhost:8080/"
        },
        "id": "FRCQcGiVb081",
        "outputId": "06b26929-02ef-4ba0-a4e6-aadfb4ad4a48"
      },
      "source": [
        "# Programa que pide la Edad al usuario, la edad se convierte a flotante para poder realizar operaciones con ese dato\r\n",
        "Edad = float(input(\"Introduce tu edad: \"))\r\n",
        "print(type(Edad))\r\n",
        "Edad_nueva = Edad * 2 - 2 \r\n",
        "print(Edad_nueva)"
      ],
      "execution_count": null,
      "outputs": [
        {
          "output_type": "stream",
          "text": [
            "Introduce tu edad: 20\n",
            "<class 'float'>\n",
            "38.0\n"
          ],
          "name": "stdout"
        }
      ]
    }
  ]
}