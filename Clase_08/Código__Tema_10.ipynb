{
  "nbformat": 4,
  "nbformat_minor": 0,
  "metadata": {
    "colab": {
      "name": "Código _Tema_10.ipynb",
      "provenance": []
    },
    "kernelspec": {
      "name": "python3",
      "display_name": "Python 3"
    }
  },
  "cells": [
    {
      "cell_type": "code",
      "metadata": {
        "id": "SU47vqHJtr80"
      },
      "source": [
        "# EJECUTE PRIMERO ESTA CELDA PARA QUE NO HAYA ERRORES EN LAS DEMÁS\r\n",
        "\r\n",
        "\r\n",
        "fichero = open(\"ejemplo.txt\", 'w')\r\n",
        "fichero.write(\"Contenido a escribir \")\r\n",
        "fichero.write(\"Hola\")\r\n",
        "fichero.close()\r\n",
        "\r\n",
        "\r\n",
        "# No debe imprimir nada en pantalla\r\n",
        "# Solo va a crear un archivo .txt "
      ],
      "execution_count": 4,
      "outputs": []
    },
    {
      "cell_type": "code",
      "metadata": {
        "colab": {
          "base_uri": "https://localhost:8080/"
        },
        "id": "SXIKVuCuu34T",
        "outputId": "52589893-97e0-4c68-9d70-732d393ba7bf"
      },
      "source": [
        "fichero = open('ejemplo.txt')  #Por defecto está en modo 'r' para solo lectura del archivo\r\n",
        "\r\n",
        "print(fichero.read())\r\n",
        "print(fichero.readline())\r\n",
        "\r\n",
        "\r\n",
        "fichero.close()\r\n",
        "\r\n",
        "\r\n",
        "#seguido de una coma en el open después del nombre del archivo\r\n",
        "\r\n",
        "#‘r’: Por defecto, para leer el fichero.\r\n",
        "#‘w’: Para escribir en el fichero.\r\n",
        "#‘x’: Para la creación, fallando si ya existe.\r\n",
        "#‘a’: Para añadir contenido a un fichero existente.\r\n",
        "#‘b’: Para abrir en modo binario."
      ],
      "execution_count": 5,
      "outputs": [
        {
          "output_type": "stream",
          "text": [
            "Contenido a escribir Hola\n",
            "\n"
          ],
          "name": "stdout"
        }
      ]
    },
    {
      "cell_type": "code",
      "metadata": {
        "id": "StMQaAkLvRcg"
      },
      "source": [
        "# Este código ingresa una lista dentro un archivo de texto\r\n",
        "\r\n",
        "# No importa si tiene el mismo nombre que el anterior archivo, puesto que lo destruye y crea uno nuevo\r\n",
        "\r\n",
        "lista = [\"Manzana\\n\", \"Pera\\n\", \"Plátano\\n\"]\r\n",
        "with open(\"ejemplo.txt\", 'w') as fichero:\r\n",
        "     fichero.writelines(lista)\r\n",
        "\r\n",
        "fichero.close()     # NUNCA olvides cerrar el archivo después de usarlo\r\n",
        "\r\n",
        "# El código no imprime nada en pantalla"
      ],
      "execution_count": 6,
      "outputs": []
    },
    {
      "cell_type": "code",
      "metadata": {
        "colab": {
          "base_uri": "https://localhost:8080/"
        },
        "id": "7m676JJdv4eb",
        "outputId": "cb5d9e04-34b7-409a-eb45-00b2a7938e5b"
      },
      "source": [
        "# Este código imprime en pantalla el anterior arreglo escrito (renglón por renglón)\r\n",
        "\r\n",
        "#La función \"strip ()\" retorna una copia de una cadena\r\n",
        "# con ciertos caracteres...\r\n",
        "\r\n",
        "with open('ejemplo.txt','r') as stop_words: \r\n",
        "    lineas = [linea.strip() for linea in stop_words]\r\n",
        "\r\n",
        "for linea in lineas:\r\n",
        "    print(linea)"
      ],
      "execution_count": 7,
      "outputs": [
        {
          "output_type": "stream",
          "text": [
            "Manzana\n",
            "Pera\n",
            "Plátano\n"
          ],
          "name": "stdout"
        }
      ]
    }
  ]
}